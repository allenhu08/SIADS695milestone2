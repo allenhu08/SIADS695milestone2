{
 "cells": [
  {
   "cell_type": "markdown",
   "metadata": {},
   "source": [
    "# Table of contents\n",
    "\n",
    "[Supervised - basic models](./supervised_basic.ipynb)\n",
    "\n",
    "[Supervised - RNN models](./supervised_rnn.ipynb)\n",
    "\n",
    "[Unsupervised - Word2Vec](./unsupervised_w2v.ipynb)\n",
    "\n",
    "[Unsupervised - Dimensionality Reduction](./unsupervised_dim.ipynb)\n",
    "\n",
    "[Unsupervised - LDA](./unsupervised_LDA.ipynb)\n",
    "\n",
    "[Performance Evaluation](./evaluation.ipynb)"
   ]
  },
  {
   "cell_type": "code",
   "execution_count": 78,
   "metadata": {},
   "outputs": [],
   "source": [
    "import numpy as np\n",
    "import pandas as pd\n",
    "\n",
    "import re\n",
    "import random\n",
    "\n",
    "from collections import Counter, defaultdict\n",
    "\n",
    "from sklearn.dummy import DummyClassifier\n",
    "from sklearn.feature_extraction.text import TfidfVectorizer, CountVectorizer\n",
    "from sklearn.linear_model import LogisticRegression\n",
    "from sklearn.naive_bayes import GaussianNB\n",
    "from sklearn.model_selection import train_test_split\n",
    "from sklearn.model_selection import GridSearchCV\n",
    "from sklearn.neural_network import MLPClassifier\n",
    "from sklearn.naive_bayes import MultinomialNB\n",
    "from sklearn.ensemble import RandomForestClassifier\n",
    "from sklearn.compose import ColumnTransformer\n",
    "from sklearn.svm import SVC\n",
    "\n",
    "from sklearn.metrics import f1_score\n",
    "from sklearn.metrics import precision_score\n",
    "from sklearn.metrics import recall_score\n",
    "from sklearn.metrics import confusion_matrix\n",
    "\n",
    "from sklearn.metrics import precision_recall_curve\n",
    "from sklearn.metrics import roc_curve\n",
    "from sklearn.metrics import plot_precision_recall_curve\n",
    "from sklearn.metrics import plot_roc_curve\n",
    "\n",
    "# from tqdm import tqdm\n",
    "import pickle\n",
    "\n",
    "import time\n",
    "\n",
    "\n",
    "from sklearn.pipeline import Pipeline\n",
    "\n",
    "\n",
    "from nltk.corpus import stopwords\n",
    "\n",
    "# Suppress all warnings\n",
    "import warnings\n",
    "warnings.filterwarnings('ignore')\n",
    "\n",
    "from preprocess_helper import preprocess_helper\n",
    "from evaluation_helper import evaluation_helper"
   ]
  },
  {
   "cell_type": "code",
   "execution_count": 49,
   "metadata": {},
   "outputs": [],
   "source": [
    "RANDOM_SEED=42"
   ]
  },
  {
   "cell_type": "code",
   "execution_count": 80,
   "metadata": {},
   "outputs": [
    {
     "name": "stdout",
     "output_type": "stream",
     "text": [
      "<class 'pandas.core.series.Series'>\n",
      "18456     {'LS': 0, 'TO': 0, 'VBN': 0, '''': 0, 'WP': 0,...\n",
      "194576    {'LS': 0, 'TO': 0, 'VBN': 0, '''': 0, 'WP': 0,...\n",
      "219712    {'LS': 0, 'TO': 0, 'VBN': 0, '''': 0, 'WP': 0,...\n",
      "330381    {'LS': 0, 'TO': 0, 'VBN': 0, '''': 0, 'WP': 0,...\n",
      "172561    {'LS': 0, 'TO': 1, 'VBN': 0, '''': 0, 'WP': 0,...\n",
      "                                ...                        \n",
      "319142    {'LS': 0, 'TO': 0, 'VBN': 0, '''': 0, 'WP': 0,...\n",
      "146373    {'LS': 0, 'TO': 0, 'VBN': 0, '''': 0, 'WP': 0,...\n",
      "57951     {'LS': 0, 'TO': 0, 'VBN': 0, '''': 0, 'WP': 0,...\n",
      "408425    {'LS': 0, 'TO': 0, 'VBN': 0, '''': 0, 'WP': 0,...\n",
      "394284    {'LS': 0, 'TO': 0, 'VBN': 0, '''': 0, 'WP': 0,...\n",
      "Name: tag_count_map, Length: 10000, dtype: object\n",
      "<class 'pandas.core.frame.DataFrame'>\n"
     ]
    }
   ],
   "source": [
    "# preprocessor = preprocess_helper('data/WikiLarge_Train.csv')\n",
    "# # X, y = preprocessor.process_with_tokenization()\n",
    "\n",
    "# train_df = preprocessor.get_df()\n",
    "\n",
    "# X = train_df.sample(10000)[\"original_text\"]\n",
    "# y = train_df.sample(10000)[\"label\"]\n",
    "# X_train, X_test, y_train, y_test = preprocessor.train_test_split(X, y)\n",
    "\n",
    "\n",
    "# X_tokenized, y_tokenized = preprocessor.process_with_tokenization(10000) # test with small sample size\n",
    "# X_train_tokenized, X_test_tokenized, y_train_tokenized, y_test_tokenized = preprocessor.train_test_split(X_tokenized, y_tokenized)\n",
    "\n",
    "\n",
    "# train_df = preprocessor.get_df()"
   ]
  },
  {
   "cell_type": "code",
   "execution_count": 98,
   "metadata": {},
   "outputs": [
    {
     "name": "stdout",
     "output_type": "stream",
     "text": [
      "<class 'pandas.core.series.Series'>\n",
      "0         {'LS': 0, 'TO': 1, 'VBN': 1, '''': 0, 'WP': 0,...\n",
      "1         {'LS': 0, 'TO': 1, 'VBN': 1, '''': 0, 'WP': 0,...\n",
      "2         {'LS': 0, 'TO': 1, 'VBN': 2, '''': 0, 'WP': 1,...\n",
      "3         {'LS': 0, 'TO': 0, 'VBN': 1, '''': 0, 'WP': 0,...\n",
      "4         {'LS': 0, 'TO': 0, 'VBN': 0, '''': 0, 'WP': 0,...\n",
      "                                ...                        \n",
      "416763    {'LS': 0, 'TO': 0, 'VBN': 2, '''': 0, 'WP': 0,...\n",
      "416764    {'LS': 0, 'TO': 0, 'VBN': 1, '''': 0, 'WP': 0,...\n",
      "416765    {'LS': 0, 'TO': 0, 'VBN': 0, '''': 0, 'WP': 0,...\n",
      "416766    {'LS': 0, 'TO': 1, 'VBN': 0, '''': 0, 'WP': 0,...\n",
      "416767    {'LS': 0, 'TO': 0, 'VBN': 0, '''': 0, 'WP': 0,...\n",
      "Name: tag_count_map, Length: 416768, dtype: object\n",
      "<class 'pandas.core.frame.DataFrame'>\n"
     ]
    }
   ],
   "source": [
    "preprocessor = preprocess_helper('data/WikiLarge_Train.csv')\n",
    "# X, y = preprocessor.process_with_tokenization()\n",
    "\n",
    "train_df = preprocessor.get_df()\n",
    "\n",
    "X = train_df[\"original_text\"]\n",
    "y = train_df[\"label\"]\n",
    "X_train, X_test, y_train, y_test = preprocessor.train_test_split(X, y)\n",
    "\n",
    "\n",
    "X_tokenized, y_tokenized = preprocessor.process_with_tokenization() # test with small sample size\n",
    "X_train_tokenized, X_test_tokenized, y_train_tokenized, y_test_tokenized = preprocessor.train_test_split(X_tokenized, y_tokenized)\n",
    "\n",
    "\n",
    "train_df = preprocessor.get_df()"
   ]
  },
  {
   "cell_type": "code",
   "execution_count": 99,
   "metadata": {},
   "outputs": [
    {
     "data": {
      "text/html": [
       "<div>\n",
       "<style scoped>\n",
       "    .dataframe tbody tr th:only-of-type {\n",
       "        vertical-align: middle;\n",
       "    }\n",
       "\n",
       "    .dataframe tbody tr th {\n",
       "        vertical-align: top;\n",
       "    }\n",
       "\n",
       "    .dataframe thead th {\n",
       "        text-align: right;\n",
       "    }\n",
       "</style>\n",
       "<table border=\"1\" class=\"dataframe\">\n",
       "  <thead>\n",
       "    <tr style=\"text-align: right;\">\n",
       "      <th></th>\n",
       "      <th>text</th>\n",
       "      <th>original_length</th>\n",
       "      <th>length_diff</th>\n",
       "      <th>LS</th>\n",
       "      <th>TO</th>\n",
       "      <th>VBN</th>\n",
       "      <th>''</th>\n",
       "      <th>WP</th>\n",
       "      <th>UH</th>\n",
       "      <th>VBG</th>\n",
       "      <th>...</th>\n",
       "      <th>MD</th>\n",
       "      <th>VB</th>\n",
       "      <th>WRB</th>\n",
       "      <th>NNP</th>\n",
       "      <th>EX</th>\n",
       "      <th>NNS</th>\n",
       "      <th>SYM</th>\n",
       "      <th>CC</th>\n",
       "      <th>CD</th>\n",
       "      <th>POS</th>\n",
       "    </tr>\n",
       "  </thead>\n",
       "  <tbody>\n",
       "    <tr>\n",
       "      <th>304501</th>\n",
       "      <td>buffalo sabres nhl</td>\n",
       "      <td>15</td>\n",
       "      <td>12</td>\n",
       "      <td>0</td>\n",
       "      <td>0</td>\n",
       "      <td>0</td>\n",
       "      <td>0</td>\n",
       "      <td>0</td>\n",
       "      <td>0</td>\n",
       "      <td>0</td>\n",
       "      <td>...</td>\n",
       "      <td>0</td>\n",
       "      <td>0</td>\n",
       "      <td>0</td>\n",
       "      <td>0</td>\n",
       "      <td>0</td>\n",
       "      <td>1</td>\n",
       "      <td>0</td>\n",
       "      <td>0</td>\n",
       "      <td>11</td>\n",
       "      <td>0</td>\n",
       "    </tr>\n",
       "    <tr>\n",
       "      <th>162313</th>\n",
       "      <td>diseases lentils culture lentils mentioned man...</td>\n",
       "      <td>36</td>\n",
       "      <td>16</td>\n",
       "      <td>0</td>\n",
       "      <td>0</td>\n",
       "      <td>1</td>\n",
       "      <td>0</td>\n",
       "      <td>0</td>\n",
       "      <td>0</td>\n",
       "      <td>1</td>\n",
       "      <td>...</td>\n",
       "      <td>0</td>\n",
       "      <td>0</td>\n",
       "      <td>0</td>\n",
       "      <td>0</td>\n",
       "      <td>0</td>\n",
       "      <td>1</td>\n",
       "      <td>0</td>\n",
       "      <td>0</td>\n",
       "      <td>1</td>\n",
       "      <td>0</td>\n",
       "    </tr>\n",
       "    <tr>\n",
       "      <th>336845</th>\n",
       "      <td>railroads like lehigh valley railroad importan...</td>\n",
       "      <td>25</td>\n",
       "      <td>10</td>\n",
       "      <td>0</td>\n",
       "      <td>1</td>\n",
       "      <td>1</td>\n",
       "      <td>0</td>\n",
       "      <td>0</td>\n",
       "      <td>0</td>\n",
       "      <td>0</td>\n",
       "      <td>...</td>\n",
       "      <td>0</td>\n",
       "      <td>1</td>\n",
       "      <td>0</td>\n",
       "      <td>0</td>\n",
       "      <td>0</td>\n",
       "      <td>1</td>\n",
       "      <td>0</td>\n",
       "      <td>1</td>\n",
       "      <td>0</td>\n",
       "      <td>0</td>\n",
       "    </tr>\n",
       "    <tr>\n",
       "      <th>150625</th>\n",
       "      <td>example would individual animal learns eat bud...</td>\n",
       "      <td>36</td>\n",
       "      <td>17</td>\n",
       "      <td>0</td>\n",
       "      <td>1</td>\n",
       "      <td>0</td>\n",
       "      <td>0</td>\n",
       "      <td>1</td>\n",
       "      <td>0</td>\n",
       "      <td>1</td>\n",
       "      <td>...</td>\n",
       "      <td>1</td>\n",
       "      <td>1</td>\n",
       "      <td>0</td>\n",
       "      <td>0</td>\n",
       "      <td>0</td>\n",
       "      <td>1</td>\n",
       "      <td>0</td>\n",
       "      <td>1</td>\n",
       "      <td>0</td>\n",
       "      <td>0</td>\n",
       "    </tr>\n",
       "    <tr>\n",
       "      <th>40240</th>\n",
       "      <td>matanuska susitna rivers major salmon spawning...</td>\n",
       "      <td>12</td>\n",
       "      <td>5</td>\n",
       "      <td>0</td>\n",
       "      <td>0</td>\n",
       "      <td>0</td>\n",
       "      <td>0</td>\n",
       "      <td>0</td>\n",
       "      <td>0</td>\n",
       "      <td>1</td>\n",
       "      <td>...</td>\n",
       "      <td>0</td>\n",
       "      <td>0</td>\n",
       "      <td>0</td>\n",
       "      <td>0</td>\n",
       "      <td>0</td>\n",
       "      <td>1</td>\n",
       "      <td>0</td>\n",
       "      <td>1</td>\n",
       "      <td>0</td>\n",
       "      <td>0</td>\n",
       "    </tr>\n",
       "  </tbody>\n",
       "</table>\n",
       "<p>5 rows × 48 columns</p>\n",
       "</div>"
      ],
      "text/plain": [
       "                                                     text  original_length  \\\n",
       "304501                                 buffalo sabres nhl               15   \n",
       "162313  diseases lentils culture lentils mentioned man...               36   \n",
       "336845  railroads like lehigh valley railroad importan...               25   \n",
       "150625  example would individual animal learns eat bud...               36   \n",
       "40240   matanuska susitna rivers major salmon spawning...               12   \n",
       "\n",
       "        length_diff  LS  TO  VBN  ''  WP  UH  VBG  ...  MD  VB  WRB  NNP  EX  \\\n",
       "304501           12   0   0    0   0   0   0    0  ...   0   0    0    0   0   \n",
       "162313           16   0   0    1   0   0   0    1  ...   0   0    0    0   0   \n",
       "336845           10   0   1    1   0   0   0    0  ...   0   1    0    0   0   \n",
       "150625           17   0   1    0   0   1   0    1  ...   1   1    0    0   0   \n",
       "40240             5   0   0    0   0   0   0    1  ...   0   0    0    0   0   \n",
       "\n",
       "        NNS  SYM  CC  CD  POS  \n",
       "304501    1    0   0  11    0  \n",
       "162313    1    0   0   1    0  \n",
       "336845    1    0   1   0    0  \n",
       "150625    1    0   1   0    0  \n",
       "40240     1    0   1   0    0  \n",
       "\n",
       "[5 rows x 48 columns]"
      ]
     },
     "execution_count": 99,
     "metadata": {},
     "output_type": "execute_result"
    }
   ],
   "source": [
    "X_train_tokenized.head()"
   ]
  },
  {
   "cell_type": "code",
   "execution_count": 100,
   "metadata": {},
   "outputs": [
    {
     "data": {
      "text/plain": [
       "(333414, 48)"
      ]
     },
     "execution_count": 100,
     "metadata": {},
     "output_type": "execute_result"
    }
   ],
   "source": [
    "X_train_tokenized.shape"
   ]
  },
  {
   "cell_type": "code",
   "execution_count": 101,
   "metadata": {},
   "outputs": [
    {
     "data": {
      "text/plain": [
       "(333414,)"
      ]
     },
     "execution_count": 101,
     "metadata": {},
     "output_type": "execute_result"
    }
   ],
   "source": [
    "y_train_tokenized.shape"
   ]
  },
  {
   "cell_type": "code",
   "execution_count": 102,
   "metadata": {},
   "outputs": [],
   "source": [
    "# train_df.hist(column='original_length')"
   ]
  },
  {
   "cell_type": "code",
   "execution_count": 103,
   "metadata": {},
   "outputs": [
    {
     "data": {
      "text/plain": [
       "array([[<matplotlib.axes._subplots.AxesSubplot object at 0x000002323AEFAA90>]],\n",
       "      dtype=object)"
      ]
     },
     "execution_count": 103,
     "metadata": {},
     "output_type": "execute_result"
    },
    {
     "data": {
      "image/png": "[encoded data removed]",
      "text/plain": [
       "<Figure size 432x288 with 1 Axes>"
      ]
     },
     "metadata": {
      "needs_background": "light"
     },
     "output_type": "display_data"
    }
   ],
   "source": [
    "train_df[train_df['label']==1].hist(column='original_length')"
   ]
  },
  {
   "cell_type": "code",
   "execution_count": 104,
   "metadata": {},
   "outputs": [
    {
     "data": {
      "text/plain": [
       "array([[<matplotlib.axes._subplots.AxesSubplot object at 0x000002324C653D90>]],\n",
       "      dtype=object)"
      ]
     },
     "execution_count": 104,
     "metadata": {},
     "output_type": "execute_result"
    },
    {
     "data": {
      "image/png": "[encoded data removed]",
      "text/plain": [
       "<Figure size 432x288 with 1 Axes>"
      ]
     },
     "metadata": {
      "needs_background": "light"
     },
     "output_type": "display_data"
    }
   ],
   "source": [
    "train_df[train_df['label']==0].hist(column='original_length')"
   ]
  },
  {
   "cell_type": "code",
   "execution_count": 105,
   "metadata": {},
   "outputs": [
    {
     "name": "stdout",
     "output_type": "stream",
     "text": [
      "length of input data: 416768\n",
      "labeled as 0: 208384\n",
      "labeled as 1: 208384\n"
     ]
    }
   ],
   "source": [
    "print('length of input data:', len(train_df))\n",
    "print('labeled as 0:', len(train_df[train_df['label']==0]))\n",
    "print('labeled as 1:', len(train_df[train_df['label']==1]))"
   ]
  },
  {
   "cell_type": "code",
   "execution_count": 106,
   "metadata": {},
   "outputs": [
    {
     "name": "stdout",
     "output_type": "stream",
     "text": [
      "training data labels:\n",
      " 0    166835\n",
      "1    166579\n",
      "Name: label, dtype: int64 \n",
      "\n",
      "dev data labels:\n",
      " 1    41805\n",
      "0    41549\n",
      "Name: label, dtype: int64\n"
     ]
    }
   ],
   "source": [
    "print('training data labels:\\n', y_train.value_counts(), '\\n')\n",
    "print('dev data labels:\\n', y_test.value_counts())\n"
   ]
  },
  {
   "cell_type": "code",
   "execution_count": 107,
   "metadata": {},
   "outputs": [],
   "source": [
    "\n",
    "def create_pipeline(clf, transformer):\n",
    "    return Pipeline(\n",
    "        [\n",
    "                  ('transform', transformer),\n",
    "                  ('classify', clf)\n",
    "        ]\n",
    "    )"
   ]
  },
  {
   "cell_type": "code",
   "execution_count": 108,
   "metadata": {},
   "outputs": [],
   "source": [
    "evaluator = evaluation_helper()"
   ]
  },
  {
   "cell_type": "code",
   "execution_count": 109,
   "metadata": {},
   "outputs": [],
   "source": [
    "def train(name, clf, transformer, Xtrain, Xtest, ytrain, ytest):\n",
    "    \n",
    "    print('='*6 + name + '='*6 )\n",
    "    start_time = time.time()\n",
    "    pipeline = create_pipeline(clf, transformer)\n",
    "    pipeline.fit(Xtrain, ytrain)\n",
    "    \n",
    "    ypred = pipeline.predict(Xtest)\n",
    "\n",
    "    evaluator.evaluate(name, ytest, ypred, time.time() - start_time)\n",
    "    print()\n",
    "    print()"
   ]
  },
  {
   "cell_type": "code",
   "execution_count": 110,
   "metadata": {},
   "outputs": [
    {
     "name": "stdout",
     "output_type": "stream",
     "text": [
      "======LogisticRegression======\n",
      "Completed in 36.65s\n",
      "confusion matrix: \n",
      " [[29509 12040]\n",
      " [12095 29710]] \n",
      "\n",
      "f1=  0.7111483454012328 ; accuracy=  0.710451807951628 ; precision=  0.7116167664670658 ; recall=  0.7106805406051908\n",
      "roc_auc=  0.7104511032949659\n",
      "\n",
      "\n",
      "======LogisticRegression_tokenized======\n",
      "Completed in 58.42s\n",
      "confusion matrix: \n",
      " [[28778 12771]\n",
      " [13323 28482]] \n",
      "\n",
      "f1=  0.685833995521202 ; accuracy=  0.6869496364901504 ; precision=  0.6904225147262018 ; recall=  0.6813060638679583\n",
      "roc_auc=  0.6869670226437435\n",
      "\n",
      "\n",
      "======RandomForestClassifier======\n",
      "Completed in 24.20s\n",
      "confusion matrix: \n",
      " [[26667 14882]\n",
      " [12081 29724]] \n",
      "\n",
      "f1=  0.6879679670412332 ; accuracy=  0.6765242219929457 ; precision=  0.666367753217056 ; recall=  0.7110154287764622\n",
      "roc_auc=  0.6764179649357773\n",
      "\n",
      "\n",
      "======RandomForestClassifier_tokenized======\n",
      "Completed in 15.26s\n",
      "confusion matrix: \n",
      " [[28361 13188]\n",
      " [15298 26507]] \n",
      "\n",
      "f1=  0.6504785276073619 ; accuracy=  0.6582527533171774 ; precision=  0.6677667212495276 ; recall=  0.6340629111350317\n",
      "roc_auc=  0.6583272749614844\n",
      "\n",
      "\n",
      "======MLPClassifier======\n",
      "Completed in 3380.76s\n",
      "confusion matrix: \n",
      " [[28025 13524]\n",
      " [10806 30999]] \n",
      "\n",
      "f1=  0.7181679177092022 ; accuracy=  0.7081123881277444 ; precision=  0.6962468836331783 ; recall=  0.7415141729458199\n",
      "roc_auc=  0.7080094872527121\n",
      "\n",
      "\n",
      "======MLPClassifier_tokenized======\n",
      "Completed in 525.88s\n",
      "confusion matrix: \n",
      " [[28731 12818]\n",
      " [12999 28806]] \n",
      "\n",
      "f1=  0.6905512471682509 ; accuracy=  0.690272812342539 ; precision=  0.692052661925812 ; recall=  0.6890563329745246\n",
      "roc_auc=  0.6902765599504022\n",
      "\n",
      "\n",
      "======SVC======\n",
      "Completed in 46212.43s\n",
      "confusion matrix: \n",
      " [[29290 12259]\n",
      " [12147 29658]] \n",
      "\n",
      "f1=  0.7084876137693796 ; accuracy=  0.7072006142476666 ; precision=  0.7075410931125796 ; recall=  0.7094366702547542\n",
      "roc_auc=  0.7071937256301569\n",
      "\n",
      "\n",
      "======SVC_tokenized======\n",
      "Completed in 22848.16s\n",
      "confusion matrix: \n",
      " [[25562 15987]\n",
      " [12695 29110]] \n",
      "\n",
      "f1=  0.6699500586867967 ; accuracy=  0.6559013364685558 ; precision=  0.6454974832028738 ; recall=  0.696328190407846\n",
      "roc_auc=  0.6557767934638089\n",
      "\n",
      "\n"
     ]
    }
   ],
   "source": [
    "classifiers = {}\n",
    "\n",
    "classifiers[\"LogisticRegression\"] = LogisticRegression(solver= 'lbfgs', max_iter=1000, random_state=RANDOM_SEED)\n",
    "\n",
    "classifiers[\"RandomForestClassifier\"] = RandomForestClassifier(random_state=RANDOM_SEED, max_depth=30, n_estimators=100)\n",
    "\n",
    "classifiers[\"RandomForestClassifier\"] = MultinomialNB()\n",
    "\n",
    "classifiers[\"MLPClassifier\"] = MLPClassifier(hidden_layer_sizes = [10], solver='sgd', max_iter=1000,\n",
    "                         random_state = RANDOM_SEED)\n",
    "\n",
    "classifiers[\"SVC\"] = SVC()\n",
    "\n",
    "naive_vectorizer = TfidfVectorizer(stop_words=None, lowercase=False, #token_pattern = r'\\b[a-z]{3,12}\\b', \n",
    "                                     min_df=50, ngram_range=(1, 3))\n",
    "\n",
    "for k, v in classifiers.items():\n",
    "    train(k, v, naive_vectorizer, X_train, X_test, y_train, y_test)\n",
    "    train(k+\"_tokenized\", v, preprocessor.get_tfidf_transformer(), X_train_tokenized, X_test_tokenized, y_train_tokenized, y_test_tokenized)"
   ]
  },
  {
   "cell_type": "code",
   "execution_count": 15,
   "metadata": {},
   "outputs": [],
   "source": [
    "\n",
    "base_search_pipeline = Pipeline(\n",
    "        [\n",
    "                  ('vectorizer', TfidfVectorizer()),\n",
    "                  ('classifier', LogisticRegression(random_state=RANDOM_SEED, max_iter=100))\n",
    "        ]\n",
    ")"
   ]
  },
  {
   "cell_type": "code",
   "execution_count": 16,
   "metadata": {},
   "outputs": [],
   "source": [
    "\n",
    "# clf = LogisticRegression(solver='liblinear', max_iter=10000, \n",
    "#                                  random_state=RANDOM_SEED)\n",
    "# print(type(clf))\n",
    "# filename = 'LogisticRegression.sav'\n",
    "\n",
    "# # pipeline = pickle.load(open(filename, 'rb'))\n",
    "\n",
    "# start_time = time.time()\n",
    "# pipeline = create_pipeline(clf)\n",
    "# pipeline.fit(X_train, y_train)\n",
    "# # pickle.dump(pipeline, open(filename, 'wb'))\n",
    "\n",
    "# y_pred = pipeline.predict(X_test)\n",
    "\n",
    "# evaluator.evaluate('LogisticRegression', y_test, y_pred, time.time() - start_time)\n",
    "\n"
   ]
  },
  {
   "cell_type": "code",
   "execution_count": 8,
   "metadata": {},
   "outputs": [],
   "source": [
    "##Grid Search to improve classifier"
   ]
  },
  {
   "cell_type": "code",
   "execution_count": 17,
   "metadata": {
    "scrolled": true
   },
   "outputs": [
    {
     "name": "stdout",
     "output_type": "stream",
     "text": [
      "Fitting 5 folds for each of 324 candidates, totalling 1620 fits\n"
     ]
    },
    {
     "data": {
      "text/plain": [
       "{'classifier__solver': 'sag',\n",
       " 'vectorizer__lowercase': False,\n",
       " 'vectorizer__max_df': 0.6,\n",
       " 'vectorizer__min_df': 50,\n",
       " 'vectorizer__ngram_range': (1, 4),\n",
       " 'vectorizer__stop_words': None}"
      ]
     },
     "execution_count": 17,
     "metadata": {},
     "output_type": "execute_result"
    }
   ],
   "source": [
    "\n",
    "from sklearn.model_selection import GridSearchCV\n",
    "\n",
    "param_grid = {\n",
    "    'vectorizer__max_df': (0.6, 0.8, 1),\n",
    "    'vectorizer__min_df': (0.01, 50, 100),\n",
    "    'vectorizer__stop_words':(None, '{english}'),\n",
    "    'vectorizer__lowercase': (True, False),\n",
    "    'vectorizer__ngram_range': ((1, 2), (1, 3), (1, 4)),  # unigrams or bigrams\n",
    "    'classifier__solver': ('lbfgs', 'liblinear', 'sag'),\n",
    "}\n",
    "\n",
    "search = GridSearchCV(base_search_pipeline, param_grid, cv=5, scoring='roc_auc', verbose=1)\n",
    "search.fit(X_train, y_train)\n",
    "\n",
    "search.best_params_"
   ]
  },
  {
   "cell_type": "code",
   "execution_count": 21,
   "metadata": {},
   "outputs": [
    {
     "name": "stdout",
     "output_type": "stream",
     "text": [
      "Completed in 35.42s\n",
      "confusion matrix: \n",
      " [[29505 12044]\n",
      " [12080 29725]] \n",
      "\n",
      "f1=  0.711345633809558 ; accuracy=  0.7105837752237445 ; precision=  0.7116521822404175 ; recall=  0.7110393493601244\n",
      "roc_auc=  0.7105823717365497\n"
     ]
    },
    {
     "data": {
      "text/plain": [
       "(0.711345633809558,\n",
       " 0.7105837752237445,\n",
       " 0.7116521822404175,\n",
       " 0.7110393493601244,\n",
       " 0.7105823717365497)"
      ]
     },
     "execution_count": 21,
     "metadata": {},
     "output_type": "execute_result"
    }
   ],
   "source": [
    "best_param_pipeline = Pipeline(\n",
    "        [\n",
    "                  ('vectorizer', TfidfVectorizer(max_df=0.6, min_df=50, ngram_range=(1,4), stop_words=None, lowercase=False)),\n",
    "                  ('classifier', LogisticRegression(random_state=RANDOM_SEED, max_iter=10000, penalty='l2', solver='sag'))\n",
    "        ]\n",
    "    \n",
    ")\n",
    "\n",
    "\n",
    "start_time = time.time()\n",
    "best_param_pipeline.fit(X_train, y_train)\n",
    "\n",
    "y_pred = best_param_pipeline.predict(X_test)\n",
    "\n",
    "evaluator.evaluate('LogisticRegression_w_gridsearch', y_test, y_pred, time.time() - start_time)"
   ]
  },
  {
   "cell_type": "code",
   "execution_count": null,
   "metadata": {},
   "outputs": [],
   "source": []
  }
 ],
 "metadata": {
  "kernelspec": {
   "display_name": "Python 3",
   "language": "python",
   "name": "python3"
  },
  "language_info": {
   "codemirror_mode": {
    "name": "ipython",
    "version": 3
   },
   "file_extension": ".py",
   "mimetype": "text/x-python",
   "name": "python",
   "nbconvert_exporter": "python",
   "pygments_lexer": "ipython3",
   "version": "3.8.3"
  }
 },
 "nbformat": 4,
 "nbformat_minor": 4
}
