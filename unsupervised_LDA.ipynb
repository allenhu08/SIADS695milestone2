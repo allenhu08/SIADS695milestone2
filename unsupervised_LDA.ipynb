{
 "cells": [
  {
   "cell_type": "markdown",
   "metadata": {},
   "source": [
    "# Table of contents\n",
    "\n",
    "[Supervised - basic models](./supervised_basic.ipynb)\n",
    "\n",
    "[Supervised - RNN models](./supervised_rnn.ipynb)\n",
    "\n",
    "[Unsupervised - Word2Vec](./unsupervised_w2v.ipynb)\n",
    "\n",
    "[Unsupervised - Dimensionality Reduction](./unsupervised_dim.ipynb)\n",
    "\n",
    "[Unsupervised - LDA](./unsupervised_LDA.ipynb)\n",
    "\n",
    "[Performance Evaluation](./evaluation.ipynb)"
   ]
  },
  {
   "cell_type": "code",
   "execution_count": 6,
   "metadata": {},
   "outputs": [],
   "source": [
    "# Suppress all warnings\n",
    "import warnings\n",
    "warnings.filterwarnings('ignore')\n",
    "\n",
    "\n",
    "import numpy as np\n",
    "import pandas as pd\n",
    "\n",
    "import re\n",
    "import random\n",
    "\n",
    "from collections import Counter, defaultdict\n",
    "\n",
    "from sklearn.dummy import DummyClassifier\n",
    "from sklearn.feature_extraction.text import TfidfVectorizer, CountVectorizer\n",
    "from sklearn.linear_model import LogisticRegression\n",
    "from sklearn.naive_bayes import GaussianNB\n",
    "from sklearn.model_selection import train_test_split\n",
    "from sklearn.model_selection import GridSearchCV\n",
    "from sklearn.neural_network import MLPClassifier\n",
    "from sklearn.naive_bayes import MultinomialNB\n",
    "from sklearn.ensemble import RandomForestClassifier\n",
    "from sklearn.decomposition import LatentDirichletAllocation\n",
    "\n",
    "from sklearn.cluster import KMeans\n",
    "from sklearn import metrics\n",
    "\n",
    "from sklearn.metrics import f1_score\n",
    "from sklearn.metrics import precision_score\n",
    "from sklearn.metrics import recall_score\n",
    "from sklearn.metrics import confusion_matrix\n",
    "\n",
    "from sklearn.metrics import precision_recall_curve\n",
    "from sklearn.metrics import roc_curve\n",
    "from sklearn.metrics import plot_precision_recall_curve\n",
    "from sklearn.metrics import plot_roc_curve\n",
    "\n",
    "from tqdm import tqdm\n",
    "import pickle\n",
    "\n",
    "import gensim\n",
    "from gensim.models.word2vec import Word2Vec\n",
    "from collections import Counter\n",
    "from nltk.tokenize import sent_tokenize, word_tokenize\n",
    "from gensim.test.utils import datapath\n",
    "\n",
    "from nltk.corpus import stopwords\n",
    "from nltk.stem import WordNetLemmatizer\n",
    "\n",
    "\n",
    "from preprocess_helper import preprocess_helper\n",
    "from evaluation_helper import evaluation_helper\n",
    "\n",
    "import time\n",
    "\n",
    "RANDOM_SEED = 42"
   ]
  },
  {
   "cell_type": "code",
   "execution_count": 2,
   "metadata": {},
   "outputs": [
    {
     "data": {
      "text/html": [
       "<div>\n",
       "<style scoped>\n",
       "    .dataframe tbody tr th:only-of-type {\n",
       "        vertical-align: middle;\n",
       "    }\n",
       "\n",
       "    .dataframe tbody tr th {\n",
       "        vertical-align: top;\n",
       "    }\n",
       "\n",
       "    .dataframe thead th {\n",
       "        text-align: right;\n",
       "    }\n",
       "</style>\n",
       "<table border=\"1\" class=\"dataframe\">\n",
       "  <thead>\n",
       "    <tr style=\"text-align: right;\">\n",
       "      <th></th>\n",
       "      <th>original_text</th>\n",
       "      <th>label</th>\n",
       "      <th>length</th>\n",
       "    </tr>\n",
       "  </thead>\n",
       "  <tbody>\n",
       "    <tr>\n",
       "      <th>230840</th>\n",
       "      <td>Rasputin was buried with an icon signed on the...</td>\n",
       "      <td>0</td>\n",
       "      <td>19</td>\n",
       "    </tr>\n",
       "    <tr>\n",
       "      <th>380714</th>\n",
       "      <td>The Commander - The Duke of Aosta - gave his p...</td>\n",
       "      <td>0</td>\n",
       "      <td>32</td>\n",
       "    </tr>\n",
       "    <tr>\n",
       "      <th>3548</th>\n",
       "      <td>1970 &amp; ndash ; Tonga gains independence from t...</td>\n",
       "      <td>1</td>\n",
       "      <td>12</td>\n",
       "    </tr>\n",
       "    <tr>\n",
       "      <th>195229</th>\n",
       "      <td>Joaquín Rodrigo Vidre , 1st Marquess of the Ga...</td>\n",
       "      <td>1</td>\n",
       "      <td>38</td>\n",
       "    </tr>\n",
       "    <tr>\n",
       "      <th>141084</th>\n",
       "      <td>About four weeks later , on April 17 , he laun...</td>\n",
       "      <td>1</td>\n",
       "      <td>23</td>\n",
       "    </tr>\n",
       "    <tr>\n",
       "      <th>169894</th>\n",
       "      <td>During 1999 , her record company , Atlantic Re...</td>\n",
       "      <td>1</td>\n",
       "      <td>31</td>\n",
       "    </tr>\n",
       "    <tr>\n",
       "      <th>368448</th>\n",
       "      <td>The basic conjugative plasmid is the F-plasmid...</td>\n",
       "      <td>0</td>\n",
       "      <td>11</td>\n",
       "    </tr>\n",
       "    <tr>\n",
       "      <th>219343</th>\n",
       "      <td>Other pages</td>\n",
       "      <td>0</td>\n",
       "      <td>2</td>\n",
       "    </tr>\n",
       "    <tr>\n",
       "      <th>288294</th>\n",
       "      <td>The new name -LRB- darmstadtium -RRB- was give...</td>\n",
       "      <td>0</td>\n",
       "      <td>19</td>\n",
       "    </tr>\n",
       "    <tr>\n",
       "      <th>143971</th>\n",
       "      <td>Golden Balls is a British daytime game show on...</td>\n",
       "      <td>1</td>\n",
       "      <td>18</td>\n",
       "    </tr>\n",
       "  </tbody>\n",
       "</table>\n",
       "</div>"
      ],
      "text/plain": [
       "                                            original_text  label  length\n",
       "230840  Rasputin was buried with an icon signed on the...      0      19\n",
       "380714  The Commander - The Duke of Aosta - gave his p...      0      32\n",
       "3548    1970 & ndash ; Tonga gains independence from t...      1      12\n",
       "195229  Joaquín Rodrigo Vidre , 1st Marquess of the Ga...      1      38\n",
       "141084  About four weeks later , on April 17 , he laun...      1      23\n",
       "169894  During 1999 , her record company , Atlantic Re...      1      31\n",
       "368448  The basic conjugative plasmid is the F-plasmid...      0      11\n",
       "219343                                        Other pages      0       2\n",
       "288294  The new name -LRB- darmstadtium -RRB- was give...      0      19\n",
       "143971  Golden Balls is a British daytime game show on...      1      18"
      ]
     },
     "execution_count": 2,
     "metadata": {},
     "output_type": "execute_result"
    }
   ],
   "source": [
    "preprocessor = preprocess_helper('data/WikiLarge_Train.csv')\n",
    "# X, y = preprocessor.process_with_tokenization()\n",
    "\n",
    "train_df = preprocessor.get_df()\n",
    "\n",
    "train_df['length']=train_df['original_text'].str.split().str.len()\n",
    "train_df.sample(10)"
   ]
  },
  {
   "cell_type": "code",
   "execution_count": 3,
   "metadata": {},
   "outputs": [
    {
     "name": "stdout",
     "output_type": "stream",
     "text": [
      "training data labels:\n",
      " 0    166835\n",
      "1    166579\n",
      "Name: label, dtype: int64 \n",
      "\n",
      "dev data labels:\n",
      " 1    41805\n",
      "0    41549\n",
      "Name: label, dtype: int64\n"
     ]
    }
   ],
   "source": [
    "X=train_df['original_text']\n",
    "y=train_df['label']\n",
    "    \n",
    "X_train, X_dev, y_train, y_dev = train_test_split(X, y, test_size=0.2, random_state=RANDOM_SEED)\n",
    "\n",
    "print('training data labels:\\n', y_train.value_counts(),'\\n')\n",
    "print('dev data labels:\\n', y_dev.value_counts())"
   ]
  },
  {
   "cell_type": "code",
   "execution_count": 4,
   "metadata": {},
   "outputs": [
    {
     "name": "stdout",
     "output_type": "stream",
     "text": [
      "Wall time: 32.2 s\n"
     ]
    }
   ],
   "source": [
    "%%time\n",
    "\n",
    "min_df=50\n",
    "ngram_range=(1,3)\n",
    "\n",
    "#tfidf_vectorizer = TfidfVectorizer(stop_words=None, lowercase=False,  \n",
    "#                                     min_df=min_df, ngram_range=ngram_range).fit(X_train)\n",
    "count_vectorizer = CountVectorizer(stop_words=None, lowercase=False,  \n",
    "                                     min_df=min_df, ngram_range=ngram_range).fit(X_train)\n",
    "\n",
    "#tfidf_documents = tfidf_vectorizer.transform(X_train)\n",
    "#tfidf_feature_names = tfidf_vectorizer.get_feature_names()\n",
    "\n",
    "count_documents = count_vectorizer.transform(X_train)\n",
    "count_feature_names = count_vectorizer.get_feature_names()"
   ]
  },
  {
   "cell_type": "code",
   "execution_count": 5,
   "metadata": {},
   "outputs": [
    {
     "name": "stdout",
     "output_type": "stream",
     "text": [
      "(333414, 23967)\n"
     ]
    }
   ],
   "source": [
    "#print(tfidf_documents.shape)\n",
    "print(count_documents.shape)"
   ]
  },
  {
   "cell_type": "code",
   "execution_count": null,
   "metadata": {},
   "outputs": [],
   "source": [
    "n_topics = 50\n",
    "\n",
    "\n",
    "lda = LatentDirichletAllocation(n_components = n_topics, random_state=RANDOM_SEED)\n",
    "lda.fit(count_documents)\n",
    "topic_models = lda.components_\n",
    "print(topic_models.shape)"
   ]
  },
  {
   "cell_type": "code",
   "execution_count": null,
   "metadata": {},
   "outputs": [],
   "source": [
    "num_top_words = 50\n",
    "\n",
    "def display_topics(model, feature_names, no_top_words):\n",
    "    for topic_idx, topic in enumerate(model.components_):\n",
    "        term_list = [feature_names[i]\n",
    "                        for i in topic.argsort()[:-no_top_words - 1:-1]]\n",
    "        print(\"topic %d:\" % (topic_idx), term_list, '\\n')\n",
    "\n",
    "\n",
    "display_topics(lda, count_feature_names, num_top_words)"
   ]
  },
  {
   "cell_type": "code",
   "execution_count": null,
   "metadata": {},
   "outputs": [],
   "source": [
    "print(\"Perplexity: \", lda.perplexity(count_documents))"
   ]
  },
  {
   "cell_type": "code",
   "execution_count": null,
   "metadata": {},
   "outputs": [],
   "source": [
    "%%time\n",
    "\n",
    "from sklearn.model_selection import GridSearchCV\n",
    "\n",
    "search_params = {'n_components': [50]}\n",
    "lda = LatentDirichletAllocation()\n",
    "\n",
    "lda_model = GridSearchCV(lda, param_grid=search_params)\n",
    "lda_model.fit(count_documents)\n",
    "\n",
    "print('done')"
   ]
  },
  {
   "cell_type": "code",
   "execution_count": null,
   "metadata": {},
   "outputs": [],
   "source": [
    "lda_model.best_estimator_"
   ]
  },
  {
   "cell_type": "code",
   "execution_count": 21,
   "metadata": {},
   "outputs": [
    {
     "name": "stdout",
     "output_type": "stream",
     "text": [
      "Best Model's Params:  {'n_components': 50}\n",
      "Best Log Likelihood Score:  -12648798.316582104\n",
      "Model Perplexity:  1592.0313716350888\n"
     ]
    }
   ],
   "source": [
    "best_lda_model = lda_model.best_estimator_\n",
    "print(\"Best Model's Params: \",lda_model.best_params_)\n",
    "print(\"Best Log Likelihood Score: \", lda_model.best_score_)\n",
    "print(\"Model Perplexity: \", best_lda_model.perplexity(count_documents))"
   ]
  },
  {
   "cell_type": "code",
   "execution_count": 23,
   "metadata": {},
   "outputs": [
    {
     "name": "stdout",
     "output_type": "stream",
     "text": [
      "done\n",
      "Wall time: 4h 59min 11s\n"
     ]
    }
   ],
   "source": [
    "%%time\n",
    "\n",
    "from sklearn.model_selection import GridSearchCV\n",
    "\n",
    "search_params = {'n_components': [75, 100]}\n",
    "lda = LatentDirichletAllocation()\n",
    "\n",
    "lda_model = GridSearchCV(lda, param_grid=search_params)\n",
    "lda_model.fit(count_documents)\n",
    "\n",
    "print('done')"
   ]
  },
  {
   "cell_type": "code",
   "execution_count": 24,
   "metadata": {},
   "outputs": [
    {
     "name": "stdout",
     "output_type": "stream",
     "text": [
      "Best Model's Params:  {'n_components': 75}\n",
      "Best Log Likelihood Score:  -12685358.361814748\n",
      "Model Perplexity:  1596.6367492686757\n"
     ]
    }
   ],
   "source": [
    "best_lda_model = lda_model.best_estimator_\n",
    "print(\"Best Model's Params: \",lda_model.best_params_)\n",
    "print(\"Best Log Likelihood Score: \", lda_model.best_score_)\n",
    "print(\"Model Perplexity: \", best_lda_model.perplexity(count_documents))"
   ]
  },
  {
   "cell_type": "code",
   "execution_count": 33,
   "metadata": {},
   "outputs": [
    {
     "data": {
      "text/html": [
       "<div>\n",
       "<style scoped>\n",
       "    .dataframe tbody tr th:only-of-type {\n",
       "        vertical-align: middle;\n",
       "    }\n",
       "\n",
       "    .dataframe tbody tr th {\n",
       "        vertical-align: top;\n",
       "    }\n",
       "\n",
       "    .dataframe thead th {\n",
       "        text-align: right;\n",
       "    }\n",
       "</style>\n",
       "<table border=\"1\" class=\"dataframe\">\n",
       "  <thead>\n",
       "    <tr style=\"text-align: right;\">\n",
       "      <th></th>\n",
       "      <th>mean_fit_time</th>\n",
       "      <th>std_fit_time</th>\n",
       "      <th>mean_score_time</th>\n",
       "      <th>std_score_time</th>\n",
       "      <th>param_n_components</th>\n",
       "      <th>params</th>\n",
       "      <th>split0_test_score</th>\n",
       "      <th>split1_test_score</th>\n",
       "      <th>split2_test_score</th>\n",
       "      <th>split3_test_score</th>\n",
       "      <th>split4_test_score</th>\n",
       "      <th>mean_test_score</th>\n",
       "      <th>std_test_score</th>\n",
       "      <th>rank_test_score</th>\n",
       "    </tr>\n",
       "  </thead>\n",
       "  <tbody>\n",
       "    <tr>\n",
       "      <th>0</th>\n",
       "      <td>1425.153256</td>\n",
       "      <td>352.527852</td>\n",
       "      <td>28.951103</td>\n",
       "      <td>10.840340</td>\n",
       "      <td>75</td>\n",
       "      <td>{'n_components': 75}</td>\n",
       "      <td>-1.270855e+07</td>\n",
       "      <td>-1.273973e+07</td>\n",
       "      <td>-1.268855e+07</td>\n",
       "      <td>-1.262085e+07</td>\n",
       "      <td>-1.266911e+07</td>\n",
       "      <td>-1.268536e+07</td>\n",
       "      <td>39824.280198</td>\n",
       "      <td>1</td>\n",
       "    </tr>\n",
       "    <tr>\n",
       "      <th>1</th>\n",
       "      <td>1753.748200</td>\n",
       "      <td>350.604823</td>\n",
       "      <td>28.683421</td>\n",
       "      <td>8.482009</td>\n",
       "      <td>100</td>\n",
       "      <td>{'n_components': 100}</td>\n",
       "      <td>-1.275428e+07</td>\n",
       "      <td>-1.280958e+07</td>\n",
       "      <td>-1.275123e+07</td>\n",
       "      <td>-1.268268e+07</td>\n",
       "      <td>-1.270977e+07</td>\n",
       "      <td>-1.274151e+07</td>\n",
       "      <td>43263.166223</td>\n",
       "      <td>2</td>\n",
       "    </tr>\n",
       "  </tbody>\n",
       "</table>\n",
       "</div>"
      ],
      "text/plain": [
       "   mean_fit_time  std_fit_time  mean_score_time  std_score_time  \\\n",
       "0    1425.153256    352.527852        28.951103       10.840340   \n",
       "1    1753.748200    350.604823        28.683421        8.482009   \n",
       "\n",
       "  param_n_components                 params  split0_test_score  \\\n",
       "0                 75   {'n_components': 75}      -1.270855e+07   \n",
       "1                100  {'n_components': 100}      -1.275428e+07   \n",
       "\n",
       "   split1_test_score  split2_test_score  split3_test_score  split4_test_score  \\\n",
       "0      -1.273973e+07      -1.268855e+07      -1.262085e+07      -1.266911e+07   \n",
       "1      -1.280958e+07      -1.275123e+07      -1.268268e+07      -1.270977e+07   \n",
       "\n",
       "   mean_test_score  std_test_score  rank_test_score  \n",
       "0    -1.268536e+07    39824.280198                1  \n",
       "1    -1.274151e+07    43263.166223                2  "
      ]
     },
     "execution_count": 33,
     "metadata": {},
     "output_type": "execute_result"
    }
   ],
   "source": [
    "gridsearch_result=pd.DataFrame(lda_model.cv_results_)\n",
    "gridsearch_result"
   ]
  },
  {
   "cell_type": "code",
   "execution_count": 35,
   "metadata": {},
   "outputs": [
    {
     "data": {
      "text/plain": [
       "[<matplotlib.lines.Line2D at 0x1b2a43f43c8>]"
      ]
     },
     "execution_count": 35,
     "metadata": {},
     "output_type": "execute_result"
    },
    {
     "data": {
      "image/png": "[encoded data removed]",
      "text/plain": [
       "<Figure size 432x288 with 1 Axes>"
      ]
     },
     "metadata": {
      "needs_background": "light"
     },
     "output_type": "display_data"
    }
   ],
   "source": [
    "import matplotlib.pyplot as plt\n",
    "plt.plot(gridsearch_result['param_n_components'],gridsearch_result['mean_test_score'] )"
   ]
  },
  {
   "cell_type": "code",
   "execution_count": 36,
   "metadata": {},
   "outputs": [
    {
     "data": {
      "text/plain": [
       "{'mean_fit_time': array([1425.15325632, 1753.74820004]),\n",
       " 'std_fit_time': array([352.52785177, 350.60482266]),\n",
       " 'mean_score_time': array([28.95110288, 28.68342085]),\n",
       " 'std_score_time': array([10.84033972,  8.48200871]),\n",
       " 'param_n_components': masked_array(data=[75, 100],\n",
       "              mask=[False, False],\n",
       "        fill_value='?',\n",
       "             dtype=object),\n",
       " 'params': [{'n_components': 75}, {'n_components': 100}],\n",
       " 'split0_test_score': array([-12708553.38579456, -12754277.3949204 ]),\n",
       " 'split1_test_score': array([-12739733.21028326, -12809577.7087961 ]),\n",
       " 'split2_test_score': array([-12688545.89728876, -12751231.36553613]),\n",
       " 'split3_test_score': array([-12620852.97829118, -12682684.98810352]),\n",
       " 'split4_test_score': array([-12669106.33741598, -12709770.41201981]),\n",
       " 'mean_test_score': array([-12685358.36181475, -12741508.37387519]),\n",
       " 'std_test_score': array([39824.28019783, 43263.16622311]),\n",
       " 'rank_test_score': array([1, 2])}"
      ]
     },
     "execution_count": 36,
     "metadata": {},
     "output_type": "execute_result"
    }
   ],
   "source": [
    "lda_model.cv_results_"
   ]
  },
  {
   "cell_type": "code",
   "execution_count": 37,
   "metadata": {},
   "outputs": [
    {
     "name": "stdout",
     "output_type": "stream",
     "text": [
      "topic 0: ['the', 'is', 'of', 'is the', 'city', 'of the', 'and', 'in', 'largest', 'capital', 'It', 'It is', 'the city', 'The', 'in the', 'located', 'city of', 'the largest', 'the capital', 'It is the'] \n",
      "\n",
      "topic 1: ['the', 'of', 'of the', 'and', 'in', 'Roman', 'in the', 'The', 'Empire', 'was', 'and the', 'political', 'by', 'Catholic', 'party', 'Soviet', 'year', 'Party', 'Indian', 'the Roman'] \n",
      "\n",
      "topic 2: ['the', 'and', 'of', 'from', 'its', 'original', 'new', 'on', 'by', 'from the', 'that', 'The', 'their', 'were', 'are', 'all', 'to', 'every', 'the original', 'own'] \n",
      "\n",
      "topic 3: ['the', 'album', 'band', 'The', 'by', 'song', 'released', 'is', 'rock', 'single', 'third', 'second', 'from', 'was', 'version', 'of', 'and', 'to', 'metal', 'is the'] \n",
      "\n",
      "topic 4: ['are', 'in', 'There', 'is', 'city', 'County', 'is city', 'city in', 'is city in', 'There are', 'different', 'States', 'United States', 'United', 'types', 'are the', 'types of', 'Wrestling', 'There is', 'currently'] \n",
      "\n",
      "topic 5: ['in', 'in the', 'the', 'region', 'is', 'France', 'department', 'department in', 'department in the', 'commune', 'is commune', 'of', 'west', 'commune in', 'commune in the', 'is commune in', 'the region', 'west of', 'in the region', 'Loire'] \n",
      "\n",
      "topic 6: ['the', 'in', 'in the', 'world', 'and', 'early', 'of', 'the world', 'century', 'of the', 'In', 'late', 'during', 'In the', 'during the', 'the early', 'to', 'was', 'in the world', 'for'] \n",
      "\n",
      "topic 7: ['which', 'time', 'the', 'of', 'at', 'to', 'each', 'this', 'which is', 'The', 'period', 'for', 'in which', 'two', 'the time', 'in', 'at the', 'of which', 'is', 'refers'] \n",
      "\n",
      "topic 8: ['of', 'part', 'the', 'part of', 'King', 'and', 'son', 'part of the', 'was', 'of the', 'II', 'Henry', 'III', 'son of', 'Emperor', 'England', 'Charles', 'of England', 'as', 'king'] \n",
      "\n",
      "topic 9: ['in', 'South', 'The', 'built', 'created', 'the', 'was', 'Africa', 'by', 'and', 'current', 'North', 'Asia', 'opened', 'America', 'was created', 'English', 'published', 'the English', 'was built'] \n",
      "\n",
      "topic 10: ['the', 'of', 'of the', 'and', 'tropical', 'storm', 'The', 'government', 'River', 'in', 'hurricane', 'development', 'Hurricane', 'it', 'president', 'to', 'as', 'that', 'Tropical', 'damage'] \n",
      "\n",
      "topic 11: ['in', 'of', 'the', 'in the', 'is', 'district', 'municipality', 'Switzerland', 'the district', 'country', 'canton', 'district of', 'of the', 'canton of', 'the canton', 'village', 'in Switzerland', 'the canton of', 'south', 'is municipality'] \n",
      "\n",
      "topic 12: ['his', 'in', 'and', 'of his', 'England', 'of', 'and his', 'He', 'in his', 'with', 'India', 'were', '1993', '1992', 'with his', 'Ireland', 'life', 'the', 'his first', 'Northern'] \n",
      "\n",
      "topic 13: ['the', 'of', 'was', 'of the', 'to', 'was the', 'President', 'last', 'European', 'the last', 'was one', 'who', 'Council', 'was one of', 'by', 'President of', 'death', 'and', 'that', 'Governor'] \n",
      "\n",
      "topic 14: ['he', 'in', 'was', 'to', 'his', 'In', 'the', 'born', 'was born', 'he was', 'He', 'and', 'born in', 'as', 'was born in', 'where', 'became', 'until', 'where he', 'for'] \n",
      "\n",
      "topic 15: ['RRB', 'LRB', 'LRB RRB', 'RRB is', 'RRB is the', 'English', 'LRB RRB is', 'is', 'and', 'is the', 'RRB LRB', 'an English', 'Dutch', 'of', 'ndash', 'Germany', 'politician', 'is an English', '2006', 'ISBN'] \n",
      "\n",
      "topic 16: ['her', 'the', 'in', 'she', 'She', 'and', 'to', 'in the', 'of', 'role', 'with', 'back', 'left', 'who', 'as', 'In', 'The', 'joined', 'back to', 'on'] \n",
      "\n",
      "topic 17: ['to', 'he', 'had', 'was', 'that', 'and', 'his', 'him', 'but', 'the', 'in', 'who', 'He', 'not', 'for', 'father', 'said', 'that he', 'it', 'by'] \n",
      "\n",
      "topic 18: ['an', 'is an', 'is', 'California', 'and', 'Los', 'Angeles', 'Los Angeles', 'in', 'chemical', 'Disney', 'RRB is an', 'element', 'record', 'American', 'Walt', 'Walt Disney', 'Records', 'symbol', 'label'] \n",
      "\n",
      "topic 19: ['used', 'is', 'it', 'in', 'to', 'for', 'it is', 'the', 'and', 'term', 'used to', 'of', 'used in', 'example', 'often', 'as', 'is used', 'used for', 'The', 'In'] \n",
      "\n",
      "topic 20: ['of', 'the', 'of the', 'and', 'part', 'is', 'part of', 'members', 'The', 'part of the', 'History', 'title', 'members of', 'Most', 'site', 'this', 'is part', 'is part of', 'family', 'of this'] \n",
      "\n",
      "topic 21: ['the', 'first', 'the first', 'of', 'at', 'only', 'was', 'in', 'was the', 'history', 'age', 'to', 'at the', 'The', 'of the', 'was the first', 'The first', 'the only', 'considered', 'least'] \n",
      "\n",
      "topic 22: ['in', 'were', 'and', 'the', 'from', 'The', 'school', 'to', 'included', 'from the', 'an', 'Games', 'held', 'is', 'in the', 'ancient', 'for', 'Olympic', 'modern', 'women'] \n",
      "\n",
      "topic 23: ['the', 'of', 'and', 'of the', 'as', 'well', 'as well', 'well as', 'on', 'as well as', 'to', 'and the', 'The', 'side', 'on the', 'both', 'as the', 'to the', 'top', 'for'] \n",
      "\n",
      "topic 24: ['the', 'and', 'by', 'to', 'by the', 'is', 'to the', 'between', 'The', 'of', 'and the', 'from', 'through', 'between the', 'south', 'north', 'east', 'from the', 'Sea', 'west'] \n",
      "\n",
      "topic 25: ['New', 'in', 'York', 'New York', 'City', 'and', 'the', 'the New', 'in New', 'Park', 'discovered', 'by', 'of New', 'home', 'Zealand', 'New Zealand', 'York City', 'New York City', 'Wales', 'of'] \n",
      "\n",
      "topic 26: ['the', 'years', 'and', 'their', 'in', 'for', 'two', 'four', 'year', 'about', 'five', 'three', 'following', 'next', 'They', 'same', 'about the', 'sold', 'million', 'with'] \n",
      "\n",
      "topic 27: ['of', 'the', 'one', 'of the', 'one of', 'one of the', 'is', 'is one', 'is one of', 'and', 'The', 'Republic', 'China', 'in', 'Republic of', 'House', 'official', 'two', 'three', 'four'] \n",
      "\n",
      "topic 28: ['LRB', 'RRB', 'St', 'for', 'of', 'Greek', 'RRB in', 'He', 'He has', 'per', 'has', 'and', 'played', 'has played', 'played for', 'unit', 'Parliament', 'Louis', 'the', 'RRB in the'] \n",
      "\n",
      "topic 29: ['the', 'to', 'and', 'of', 'most', 'all', 'over', 'to the', 'it', 'moved', 'over the', 'in', 'the most', 'In', 'study', 'addition', 'most of', 'across', 'into', 'moved to'] \n",
      "\n",
      "topic 30: ['in', 'commune', 'the', 'France', 'in the', 'is commune', 'is', 'de', 'commune in', 'is commune in', 'department', 'commune in the', 'department in', 'Calais', 'Pas', 'Pas de', 'Pas de Calais', 'de Calais', 'of France', 'of'] \n",
      "\n",
      "topic 31: ['in', 'in the', 'the', 'found', 'is', 'found in', 'It', 'of', 'It is', 'found in the', 'is in', 'southwest', 'UK', 'region', 'is found', 'France', 'Ocean', 'of France', 'is found in', 'southwest of'] \n",
      "\n",
      "topic 32: ['was', 'the', 'by', 'it', 'it was', 'of', 'and', 'and was', 'in', 'also', 'made', 'which was', 'was also', 'by the', 'for', 'best', 'He was', 'given', 'He', 'which'] \n",
      "\n",
      "topic 33: ['is', 'of', 'for', 'The', 'type', 'common', 'that', 'and', 'type of', 'use', 'class', 'high', 'engine', 'by', 'units', 'in', 'Wikipedia', 'which', 'to', 'uses'] \n",
      "\n",
      "topic 34: ['the', 'of', 'number', 'of the', 'form', 'end', 'number of', 'and', 'end of', 'than', 'the end', 'to', 'the end of', 'in', 'form of', 'other', 'more', 'end of the', 'The', 'in the'] \n",
      "\n",
      "topic 35: ['an', 'about', 'in', 'of', 'to', 'at', 'is', 'and', '2000', 'average', 'with an', 'the', 'is about', 'distance', '20th', 'Jupiter', 'The', 'grew', 'up', 'with'] \n",
      "\n",
      "topic 36: ['has', 'been', 'the', 'to', 'and', 'have', 'is', 'has been', 'its', 'since', 'have been', 'The', 'of', 'to the', 'similar', 'in', 'due', 'due to', 'white', 'for'] \n",
      "\n",
      "topic 37: ['by', 'and', 'The', 'the', 'is', 'series', 'film', 'of', 'written', 'book', 'television', 'in', 'character', 'movie', 'story', 'written by', 'novel', 'series of', 'in the', 'published'] \n",
      "\n",
      "topic 38: ['London', 'is', 'in', 'and', 'based', 'station', 'The', 'club', 'on', 'football', 'the', 'based in', 'an', 'based on', 'football club', 'BBC', 'Line', 'railway', 'line', 'in London'] \n",
      "\n",
      "topic 39: ['of', 'the', 'and', 'is', 'are', 'in', 'that', 'or', 'to', 'water', 'with', 'of the', 'species', 'The', 'from', 'which', 'body', 'by', 'an', 'in the'] \n",
      "\n",
      "topic 40: ['RRB', 'LRB', 'of', 'the', 'and', 'National', 'of the', 'now', 'is', 'International', 'The', 'the National', 'Football', 'in', 'Austria', 'see', 'Russia', 'LRB see', 'division', 'Federal'] \n",
      "\n",
      "topic 41: ['in', 'released', 'northern', 'the', 'in the', 'is', 'in northern', 'Europe', 'commune in', 'commune in the', 'is commune in', 'northern France', 'department', 'America', 'in northern France', 'was released', 'France', 'commune', 'is commune', 'Aisne'] \n",
      "\n",
      "topic 42: ['for', 'was', 'in', 'the', '2009', 'won', 'February', 'and', 'On', '2007', 'Award', '2002', 'won the', '2001', 'to', 'by', 'elected', 'Best', 'for the', 'on'] \n",
      "\n",
      "topic 43: ['American', 'an', 'an American', 'and', 'is an', 'born', 'is', 'is an American', 'RRB is an', 'LRB born', 'singer', 'actor', 'LRB', 'RRB', 'RRB is', 'actress', 'June', 'songwriter', 'musician', 'Major'] \n",
      "\n",
      "topic 44: ['in', 'the', 'was', 'World', 'War', 'famous', 'World War', 'II', 'started', 'The', 'and', 'present', 'war', 'World War II', 'War II', 'died', 'by', 'of', 'what', 'during'] \n",
      "\n",
      "topic 45: ['of', 'the', 'is', 'group', 'in', 'and', 'parts', 'order', 'that', 'are', 'there', 'group of', 'parts of', 'The', 'of the', 'languages', 'there is', 'set', 'RRB', 'LRB'] \n",
      "\n",
      "topic 46: ['the', 'team', 'in', 'World', 'for', 'and', 'for the', 'Championship', 'League', 'played', 'in the', 'season', 'match', 'The', 'Cup', 'won', 'of the', 'Grand', 'to', 'of'] \n",
      "\n",
      "topic 47: ['with', 'with the', 'It', 'was', 'It was', 'and', 'the', 'in', 'founded', 'along', 'around', 'The', 'along with', 'originally', 'founded in', 'was founded', 'by', 'around the', 'added', 'introduced'] \n",
      "\n",
      "topic 48: ['is', 'to', 'as', 'and', 'It', 'any', 'language', 'It is', 'referred', 'referred to', 'not', 'of', 'an', 'the', 'for', 'to as', 'many', 'referred to as', 'is not', 'or'] \n",
      "\n",
      "topic 49: ['can', 'be', 'can be', 'may', 'of', 'and', 'or', 'is', 'made', 'also', 'are', 'may be', 'with', 'usually', 'This', 'list', 'by', 'in', 'these', 'This is'] \n",
      "\n",
      "topic 50: ['after', 'the', 'named', 'in', 'of', 'after the', 'place', 'named after', 'in the', 'The', 'was', 'is', 'Battle', 'living', 'was named', 'Battle of', 'live', 'made', 'were', 'is named'] \n",
      "\n",
      "topic 51: ['in', 'the', 'Pakistan', 'in the', 'District', 'is', 'Saint', 'western', 'de', 'la', 'of Pakistan', 'Province', 'commune', 'de la', 'France', 'is commune', 'department', 'appeared', 'western France', 'department in'] \n",
      "\n",
      "topic 52: ['the', 'to', 'be', 'to be', 'that', 'would', 'will', 'same', 'the same', 'it', 'make', 'in', 'is', 'not', 'that the', 'could', 'to make', 'this', 'if', 'have'] \n",
      "\n",
      "topic 53: ['was', 'RRB', 'LRB', 'RRB was', 'and', 'was an', 'an', 'of', 'RRB was an', 'April', 'January', 'March', 'August', 'September', 'July', 'October', 'May', 'ndash', 'November', 'composer'] \n",
      "\n",
      "topic 54: ['of', 'RRB', 'LRB', 'km', 'to', 'the', 'about', 'miles', 'and', 'According', 'According to', 'land', 'km RRB', 'from', 'The', 'to the', 'square', 'according', 'according to', '20'] \n",
      "\n",
      "topic 55: ['of', 'people', 'into', 'population', 'has', 'area', 'the', 'and', 'Other', 'some', 'population of', 'million', 'had', 'an', 'into the', 'total', 'area of', 'It', 'The', 'with'] \n",
      "\n",
      "topic 56: ['of', 'the', 'University', 'at', 'in', 'and', 'at the', 'University of', 'Great', 'College', 'State', 'the University', 'School', 'the University of', 'to', 'The', 'university', 'Berlin', 'Britain', 'of the'] \n",
      "\n",
      "topic 57: ['on', 'in', 'December', 'was', 'plays', 'March', 'was first', 'as', 'first', 'La', 'replaced', 'who', 'footballer who', 'August', 'Italian', 'and', 'for', 'on December', 'on August', 'July'] \n",
      "\n",
      "topic 58: ['United', 'States', 'the United', 'United States', 'the', 'the United States', 'in', 'in the', 'in the United', 'of', 'is', 'of the United', 'Kingdom', 'United Kingdom', 'the United Kingdom', 'city', 'is city of', 'city of', 'is city', 'Canada'] \n",
      "\n",
      "topic 59: ['born', 'LRB born', 'is', 'LRB', 'RRB', 'RRB is', 'football', 'player', 'football player', 'former', 'for', 'is former', 'in', 'RRB is former', 'Japanese', 'plays', 'who', 'plays for', 'Japanese football', 'Japanese football player'] \n",
      "\n",
      "topic 60: ['of', '000', 'the', 'important', 'most', 'more', 'the most', 'than', 'over', 'of the', 'and', 'is', 'more than', 'head', 'local', 'an', 'become', 'in', 'The', 'central'] \n",
      "\n",
      "topic 61: ['town', 'in', 'the', 'season', 'in the', 'is', 'One', 'of', 'the town', 'town in', 'The', 'is town', 'highest', 'Scottish', 'town of', 'Scotland', 'Formula', 'Formula One', 'is town in', 'small'] \n",
      "\n",
      "topic 62: ['and', 'the', 'in', 'music', 'with', 'for', 'of', 'to', 'The', 'many', 'including', 'on', 'band', 'In', 'went', 'He', 'popular', 'began', 'at', 'songs'] \n",
      "\n",
      "topic 63: ['of', 'national', 'is', 'the', 'team', 'References', 'football', 'football team', 'is the', 'described', 'national football', 'national football team', 'the national', 'law', 'kind', 'first', 'links', 'is the first', 'City of', 'team of'] \n",
      "\n",
      "topic 64: ['the', 'of', 'member', 'of the', 'member of', 'member of the', 'Minister', 'served', 'RRB', 'LRB', 'calendar', 'as', 'starting', 'Prime', 'Prime Minister', 'was', 'year', 'on', 'served as', 'RRB of'] \n",
      "\n",
      "topic 65: ['in the', 'in', 'the', 'is', 'France', 'the region', 'region', 'of France', 'department', 'department in', 'found', 'It', 'is found', 'It is', 'in the region', 'of', 'found in', 'is found in', 'It is found', 'found in the'] \n",
      "\n",
      "topic 66: ['or', 'called', 'is', 'LRB', 'RRB', 'and', 'in', 'The', 'the', 'by', 'are', 'sometimes', 'also', 'LRB or', 'of', 'called the', 'an', 'also called', 'produced', 'either'] \n",
      "\n",
      "topic 67: ['the', 'of', 'of the', 'and', 'British', 'The', 'in', 'the British', 'First', 'by', 'War', 'ndash', 'forces', 'Spanish', 'and the', 'Spain', 'military', 'Army', 'in the', 'Royal'] \n",
      "\n",
      "topic 68: ['name', 'the', 'from', 'German', 'The', 'French', 'from the', 'word', 'the name', 'of', 'under', 'was', 'Russian', 'meaning', 'name of', 'under the', 'changed', 'the German', 'to', 'LRB'] \n",
      "\n",
      "topic 69: ['are', 'they', 'not', 'state', 'of', 'the', 'in', 'the state', 'state of', 'because', 'and', 'They', 'but', 'did', 'in the', 'does', 'they are', 'the state of', 'do', 'They are'] \n",
      "\n",
      "topic 70: ['game', 'in', 'the', 'is', 'province', 'of', 'located', 'located in', 'in the', 'video', 'Japan', 'province of', 'located in the', 'games', 'video game', 'Nintendo', 'Belgian', 'Mario', 'municipality', 'for'] \n",
      "\n",
      "topic 71: ['RRB', 'LRB', 'RRB and', 'and', 'RRB is', 'is', 'for', 'known', 'The', 'best', 'in', 'known for', 'best known', 'the', 'LRB in', 'for his', 'LRB the', 'best known for', 'as', 'RRB and the'] \n",
      "\n",
      "topic 72: ['as', 'known', 'known as', 'as the', 'such', 'also', 'such as', 'and', 'also known', 'also known as', 'known as the', 'the', 'who', 'or', 'is', 'to', 'are', 'often', 'for', 'such as the'] \n",
      "\n",
      "topic 73: ['to', 'the', 'and', 'their', 'up', 'that', 'for', 'them', 'to the', 'have', 'with', 'they', 'other', 'from', 'use', 'help', 'take', 'it', 'in', 'then'] \n",
      "\n",
      "topic 74: ['on', 'the', 'on the', 'The', 'of', 'October', 'November', '2008', 'and', 'was', 'On', 'September', '2007', 'June', 'became', 'January', 'May', 'April', 'in', 'first'] \n",
      "\n"
     ]
    }
   ],
   "source": [
    "display_topics(best_lda_model, count_feature_names, num_top_words)"
   ]
  },
  {
   "cell_type": "code",
   "execution_count": 38,
   "metadata": {},
   "outputs": [
    {
     "name": "stdout",
     "output_type": "stream",
     "text": [
      "done\n",
      "Wall time: 10h 47min 14s\n"
     ]
    }
   ],
   "source": [
    "%%time\n",
    "\n",
    "from sklearn.model_selection import GridSearchCV\n",
    "\n",
    "search_params = {'n_components': [10, 50, 75, 100]}\n",
    "lda = LatentDirichletAllocation()\n",
    "\n",
    "lda_model = GridSearchCV(lda, param_grid=search_params)\n",
    "lda_model.fit(count_documents)\n",
    "\n",
    "print('done')"
   ]
  },
  {
   "cell_type": "code",
   "execution_count": 39,
   "metadata": {},
   "outputs": [
    {
     "data": {
      "text/html": [
       "<div>\n",
       "<style scoped>\n",
       "    .dataframe tbody tr th:only-of-type {\n",
       "        vertical-align: middle;\n",
       "    }\n",
       "\n",
       "    .dataframe tbody tr th {\n",
       "        vertical-align: top;\n",
       "    }\n",
       "\n",
       "    .dataframe thead th {\n",
       "        text-align: right;\n",
       "    }\n",
       "</style>\n",
       "<table border=\"1\" class=\"dataframe\">\n",
       "  <thead>\n",
       "    <tr style=\"text-align: right;\">\n",
       "      <th></th>\n",
       "      <th>mean_fit_time</th>\n",
       "      <th>std_fit_time</th>\n",
       "      <th>mean_score_time</th>\n",
       "      <th>std_score_time</th>\n",
       "      <th>param_n_components</th>\n",
       "      <th>params</th>\n",
       "      <th>split0_test_score</th>\n",
       "      <th>split1_test_score</th>\n",
       "      <th>split2_test_score</th>\n",
       "      <th>split3_test_score</th>\n",
       "      <th>split4_test_score</th>\n",
       "      <th>mean_test_score</th>\n",
       "      <th>std_test_score</th>\n",
       "      <th>rank_test_score</th>\n",
       "    </tr>\n",
       "  </thead>\n",
       "  <tbody>\n",
       "    <tr>\n",
       "      <th>0</th>\n",
       "      <td>1479.754498</td>\n",
       "      <td>332.194216</td>\n",
       "      <td>26.482786</td>\n",
       "      <td>5.437500</td>\n",
       "      <td>10</td>\n",
       "      <td>{'n_components': 10}</td>\n",
       "      <td>-1.275292e+07</td>\n",
       "      <td>-1.275927e+07</td>\n",
       "      <td>-1.278050e+07</td>\n",
       "      <td>-1.267929e+07</td>\n",
       "      <td>-1.274839e+07</td>\n",
       "      <td>-1.274408e+07</td>\n",
       "      <td>34209.407109</td>\n",
       "      <td>4</td>\n",
       "    </tr>\n",
       "    <tr>\n",
       "      <th>1</th>\n",
       "      <td>1899.927456</td>\n",
       "      <td>126.179122</td>\n",
       "      <td>37.027969</td>\n",
       "      <td>8.091931</td>\n",
       "      <td>50</td>\n",
       "      <td>{'n_components': 50}</td>\n",
       "      <td>-1.264390e+07</td>\n",
       "      <td>-1.269140e+07</td>\n",
       "      <td>-1.266836e+07</td>\n",
       "      <td>-1.259227e+07</td>\n",
       "      <td>-1.264435e+07</td>\n",
       "      <td>-1.264806e+07</td>\n",
       "      <td>32968.104401</td>\n",
       "      <td>1</td>\n",
       "    </tr>\n",
       "    <tr>\n",
       "      <th>2</th>\n",
       "      <td>1859.553633</td>\n",
       "      <td>27.711933</td>\n",
       "      <td>33.762890</td>\n",
       "      <td>0.688425</td>\n",
       "      <td>75</td>\n",
       "      <td>{'n_components': 75}</td>\n",
       "      <td>-1.271610e+07</td>\n",
       "      <td>-1.273232e+07</td>\n",
       "      <td>-1.269287e+07</td>\n",
       "      <td>-1.262790e+07</td>\n",
       "      <td>-1.265067e+07</td>\n",
       "      <td>-1.268397e+07</td>\n",
       "      <td>39248.228988</td>\n",
       "      <td>2</td>\n",
       "    </tr>\n",
       "    <tr>\n",
       "      <th>3</th>\n",
       "      <td>1953.247913</td>\n",
       "      <td>17.585531</td>\n",
       "      <td>35.678870</td>\n",
       "      <td>1.198123</td>\n",
       "      <td>100</td>\n",
       "      <td>{'n_components': 100}</td>\n",
       "      <td>-1.274254e+07</td>\n",
       "      <td>-1.278286e+07</td>\n",
       "      <td>-1.275668e+07</td>\n",
       "      <td>-1.268850e+07</td>\n",
       "      <td>-1.273649e+07</td>\n",
       "      <td>-1.274141e+07</td>\n",
       "      <td>30905.928192</td>\n",
       "      <td>3</td>\n",
       "    </tr>\n",
       "  </tbody>\n",
       "</table>\n",
       "</div>"
      ],
      "text/plain": [
       "   mean_fit_time  std_fit_time  mean_score_time  std_score_time  \\\n",
       "0    1479.754498    332.194216        26.482786        5.437500   \n",
       "1    1899.927456    126.179122        37.027969        8.091931   \n",
       "2    1859.553633     27.711933        33.762890        0.688425   \n",
       "3    1953.247913     17.585531        35.678870        1.198123   \n",
       "\n",
       "  param_n_components                 params  split0_test_score  \\\n",
       "0                 10   {'n_components': 10}      -1.275292e+07   \n",
       "1                 50   {'n_components': 50}      -1.264390e+07   \n",
       "2                 75   {'n_components': 75}      -1.271610e+07   \n",
       "3                100  {'n_components': 100}      -1.274254e+07   \n",
       "\n",
       "   split1_test_score  split2_test_score  split3_test_score  split4_test_score  \\\n",
       "0      -1.275927e+07      -1.278050e+07      -1.267929e+07      -1.274839e+07   \n",
       "1      -1.269140e+07      -1.266836e+07      -1.259227e+07      -1.264435e+07   \n",
       "2      -1.273232e+07      -1.269287e+07      -1.262790e+07      -1.265067e+07   \n",
       "3      -1.278286e+07      -1.275668e+07      -1.268850e+07      -1.273649e+07   \n",
       "\n",
       "   mean_test_score  std_test_score  rank_test_score  \n",
       "0    -1.274408e+07    34209.407109                4  \n",
       "1    -1.264806e+07    32968.104401                1  \n",
       "2    -1.268397e+07    39248.228988                2  \n",
       "3    -1.274141e+07    30905.928192                3  "
      ]
     },
     "execution_count": 39,
     "metadata": {},
     "output_type": "execute_result"
    }
   ],
   "source": [
    "gridsearch_result=pd.DataFrame(lda_model.cv_results_)\n",
    "gridsearch_result"
   ]
  },
  {
   "cell_type": "code",
   "execution_count": 40,
   "metadata": {},
   "outputs": [
    {
     "data": {
      "text/plain": [
       "[<matplotlib.lines.Line2D at 0x1b28fa830c8>]"
      ]
     },
     "execution_count": 40,
     "metadata": {},
     "output_type": "execute_result"
    },
    {
     "data": {
      "image/png": "[encoded data removed]",
      "text/plain": [
       "<Figure size 432x288 with 1 Axes>"
      ]
     },
     "metadata": {
      "needs_background": "light"
     },
     "output_type": "display_data"
    }
   ],
   "source": [
    "plt.plot(gridsearch_result['param_n_components'],gridsearch_result['mean_test_score'] )"
   ]
  },
  {
   "cell_type": "code",
   "execution_count": null,
   "metadata": {},
   "outputs": [],
   "source": []
  }
 ],
 "metadata": {
  "kernelspec": {
   "display_name": "Python 3",
   "language": "python",
   "name": "python3"
  },
  "language_info": {
   "codemirror_mode": {
    "name": "ipython",
    "version": 3
   },
   "file_extension": ".py",
   "mimetype": "text/x-python",
   "name": "python",
   "nbconvert_exporter": "python",
   "pygments_lexer": "ipython3",
   "version": "3.8.3"
  }
 },
 "nbformat": 4,
 "nbformat_minor": 4
}
